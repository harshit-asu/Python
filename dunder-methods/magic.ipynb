{
 "cells": [
  {
   "cell_type": "markdown",
   "id": "f5152839-7555-425e-aa7a-f2dc066bb864",
   "metadata": {},
   "source": [
    "#### Everything in Python is an object!"
   ]
  },
  {
   "cell_type": "code",
   "execution_count": 3,
   "id": "2b14abcf-021e-4286-af0a-7bb8c1c705d2",
   "metadata": {},
   "outputs": [
    {
     "name": "stdout",
     "output_type": "stream",
     "text": [
      "<class 'str'>\n"
     ]
    }
   ],
   "source": [
    "str1 = \"hello\"\n",
    "str2 = \"world\"\n",
    "\n",
    "print(type(str1))"
   ]
  },
  {
   "cell_type": "markdown",
   "id": "408f8836-29be-4183-b031-6578736edcbb",
   "metadata": {},
   "source": [
    "#### What about a function? Is it an object?\n",
    "\n",
    "#### YES"
   ]
  },
  {
   "cell_type": "code",
   "execution_count": 5,
   "id": "9450d75a-eea4-4949-a19f-cead0293192f",
   "metadata": {},
   "outputs": [
    {
     "name": "stdout",
     "output_type": "stream",
     "text": [
      "<class 'function'>\n"
     ]
    }
   ],
   "source": [
    "def function():\n",
    "    pass\n",
    "\n",
    "print(type(function))"
   ]
  },
  {
   "cell_type": "markdown",
   "id": "bce2c56a-d4e8-44e7-821e-1a3d8c8656af",
   "metadata": {},
   "source": [
    "### How do operators work with objects?\n",
    "\n",
    "#### Dunder/Magic methods\n",
    "\n",
    "Operators are mapped to some methods in the implementation!!"
   ]
  },
  {
   "cell_type": "code",
   "execution_count": 8,
   "id": "1fc0dfee-1886-4885-b9dc-6b9f83dfa091",
   "metadata": {},
   "outputs": [
    {
     "name": "stdout",
     "output_type": "stream",
     "text": [
      "helloworld\n"
     ]
    }
   ],
   "source": [
    "# '+' is used for addition\n",
    "# Then how can it perform concatenation?\n",
    "\n",
    "print(str1 + str2)"
   ]
  },
  {
   "cell_type": "code",
   "execution_count": 12,
   "id": "c588ddd5-6599-43ff-95fd-b4aef8ad9368",
   "metadata": {},
   "outputs": [
    {
     "name": "stdout",
     "output_type": "stream",
     "text": [
      "helloworld\n"
     ]
    }
   ],
   "source": [
    "# Which method?\n",
    "\n",
    "# __add__()\n",
    "\n",
    "print(str1.__add__(str2))"
   ]
  },
  {
   "cell_type": "code",
   "execution_count": 16,
   "id": "454ef056-d327-490f-acba-d9e2c6f918a3",
   "metadata": {},
   "outputs": [
    {
     "name": "stdout",
     "output_type": "stream",
     "text": [
      "5\n",
      "5\n",
      "True\n"
     ]
    }
   ],
   "source": [
    "# How to get length?\n",
    "\n",
    "print(len(str1))\n",
    "\n",
    "print(str1.__len__())\n",
    "\n",
    "print(len(str1) == str1.__len__())"
   ]
  },
  {
   "cell_type": "markdown",
   "id": "47c9825c-5ee5-4f1f-94ba-c5b2d383e7a0",
   "metadata": {},
   "source": [
    "# Custom Dunder Methods"
   ]
  },
  {
   "cell_type": "code",
   "execution_count": 18,
   "id": "fe26634e-86f6-4630-ba51-653ec25c25ff",
   "metadata": {},
   "outputs": [
    {
     "name": "stdout",
     "output_type": "stream",
     "text": [
      "<__main__.Counter object at 0x0000018CA3E49750> <__main__.Counter object at 0x0000018CA3E49C90>\n"
     ]
    }
   ],
   "source": [
    "class Counter:\n",
    "    def __init__(self):\n",
    "        self.value = 1\n",
    "\n",
    "    def count_up(self):\n",
    "        self.value += 1\n",
    "\n",
    "    def count_down(self):\n",
    "        self.value -= 1\n",
    "\n",
    "count1 = Counter()\n",
    "count2 = Counter()\n",
    "\n",
    "count1.count_up()\n",
    "count2.count_up()\n",
    "count2.count_up()\n",
    "\n",
    "print(count1, count2)"
   ]
  },
  {
   "cell_type": "markdown",
   "id": "2e952915-3add-4da7-931c-163d8584878d",
   "metadata": {},
   "source": [
    "Hmm, this is not what I expected! Let me change the way the object is represented"
   ]
  },
  {
   "cell_type": "code",
   "execution_count": 19,
   "id": "dd954d13-49dd-41a7-b85c-db35a73711e2",
   "metadata": {},
   "outputs": [
    {
     "name": "stdout",
     "output_type": "stream",
     "text": [
      "Counter with value: 2\n",
      "Counter with value: 3\n"
     ]
    }
   ],
   "source": [
    "class Counter:\n",
    "    def __init__(self):\n",
    "        self.value = 1\n",
    "\n",
    "    def count_up(self):\n",
    "        self.value += 1\n",
    "\n",
    "    def count_down(self):\n",
    "        self.value -= 1\n",
    "\n",
    "    def __repr__(self):\n",
    "        return f\"Counter with value: {self.value}\"\n",
    "\n",
    "count1 = Counter()\n",
    "count2 = Counter()\n",
    "\n",
    "count1.count_up()\n",
    "count2.count_up()\n",
    "count2.count_up()\n",
    "\n",
    "print(count1)\n",
    "print(count2)"
   ]
  },
  {
   "cell_type": "code",
   "execution_count": 20,
   "id": "ba1d5c15-94b2-4a45-8250-a53cccbec194",
   "metadata": {},
   "outputs": [
    {
     "ename": "TypeError",
     "evalue": "unsupported operand type(s) for +: 'Counter' and 'Counter'",
     "output_type": "error",
     "traceback": [
      "\u001b[1;31m---------------------------------------------------------------------------\u001b[0m",
      "\u001b[1;31mTypeError\u001b[0m                                 Traceback (most recent call last)",
      "Cell \u001b[1;32mIn[20], line 3\u001b[0m\n\u001b[0;32m      1\u001b[0m \u001b[38;5;66;03m# Now let's try to add count1 and count2\u001b[39;00m\n\u001b[1;32m----> 3\u001b[0m \u001b[38;5;28mprint\u001b[39m(\u001b[43mcount1\u001b[49m\u001b[43m \u001b[49m\u001b[38;5;241;43m+\u001b[39;49m\u001b[43m \u001b[49m\u001b[43mcount2\u001b[49m)\n",
      "\u001b[1;31mTypeError\u001b[0m: unsupported operand type(s) for +: 'Counter' and 'Counter'"
     ]
    }
   ],
   "source": [
    "# Now let's try to add count1 and count2\n",
    "\n",
    "print(count1 + count2)"
   ]
  },
  {
   "cell_type": "markdown",
   "id": "7d487e1d-11b3-4b13-8b32-24a3f658c21c",
   "metadata": {},
   "source": [
    "Oh, let's implement __add__()"
   ]
  },
  {
   "cell_type": "code",
   "execution_count": 23,
   "id": "d220a5d0-0dab-46b5-b762-69269233f617",
   "metadata": {},
   "outputs": [
    {
     "name": "stdout",
     "output_type": "stream",
     "text": [
      "Counter with value: 2\n",
      "Counter with value: 3\n",
      "Counter with value: 5\n"
     ]
    }
   ],
   "source": [
    "class Counter:\n",
    "    def __init__(self):\n",
    "        self.value = 1\n",
    "\n",
    "    def count_up(self):\n",
    "        self.value += 1\n",
    "\n",
    "    def count_down(self):\n",
    "        self.value -= 1\n",
    "\n",
    "    def __repr__(self):\n",
    "        return f\"Counter with value: {self.value}\"\n",
    "\n",
    "    def __add__(self, other):\n",
    "        # create a new counter\n",
    "        count = Counter()\n",
    "        val = self.value + other.value\n",
    "        while val > 1:\n",
    "            count.count_up()\n",
    "            val -= 1\n",
    "        return count\n",
    "\n",
    "count1 = Counter()\n",
    "count2 = Counter()\n",
    "\n",
    "count1.count_up()\n",
    "count2.count_up()\n",
    "count2.count_up()\n",
    "\n",
    "print(count1)\n",
    "print(count2)\n",
    "\n",
    "print(count1 + count2)"
   ]
  },
  {
   "cell_type": "code",
   "execution_count": null,
   "id": "805623c9-1cc3-42d2-b357-e471208ec891",
   "metadata": {},
   "outputs": [],
   "source": []
  }
 ],
 "metadata": {
  "kernelspec": {
   "display_name": "Python 3 (ipykernel)",
   "language": "python",
   "name": "python3"
  },
  "language_info": {
   "codemirror_mode": {
    "name": "ipython",
    "version": 3
   },
   "file_extension": ".py",
   "mimetype": "text/x-python",
   "name": "python",
   "nbconvert_exporter": "python",
   "pygments_lexer": "ipython3",
   "version": "3.11.2"
  }
 },
 "nbformat": 4,
 "nbformat_minor": 5
}
